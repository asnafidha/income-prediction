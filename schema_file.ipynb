{
  "nbformat": 4,
  "nbformat_minor": 0,
  "metadata": {
    "colab": {
      "provenance": []
    },
    "kernelspec": {
      "name": "python3",
      "display_name": "Python 3"
    },
    "language_info": {
      "name": "python"
    }
  },
  "cells": [
    {
      "cell_type": "markdown",
      "source": [
        "## dataset:\n",
        "###  name: Income Dataset\n",
        "# Main Objective\n",
        "**main_objective: Predicting income levels (<=50K or >50K) based on individual attributes.**\n",
        "\n",
        "---\n",
        "\n",
        "\n",
        "\n",
        "\n",
        "  **description**: Dataset containing information about individuals and their income levels.\n",
        "\n",
        "  The data contains 32561 instances with the following attributes:\n",
        "###  Attribute Information:\n",
        "\n",
        "**age**: continuous.\n",
        "\n",
        "**workclass** *: Private, Self-emp-not-inc, Self-emp-inc, Federal-gov, Local-gov, State-gov, Without-pay, Never-worked.\n",
        "\n",
        "**fnlwgt**: continuous.\n",
        "\n",
        "**education:** Bachelors, Some-college, 11th, HS-grad, Prof-school, Assoc-acdm, Assoc-voc, 9th, 7th-8th, 12th, Masters, 1st-4th, 10th, Doctorate, 5th-6th, Preschool.\n",
        "\n",
        "**education-num:** continuous.\n",
        "\n",
        "**marital-status**: Married-civ-spouse, Divorced, Never-married, Separated, Widowed, Married-spouse-absent, Married-AF-spouse.\n",
        "\n",
        "**occupation**: **bold text** Tech-support, Craft-repair, Other-service, Sales, Exec-managerial, Prof-specialty, Handlers-cleaners, Machine-op-inspct, Adm-clerical, Farming-fishing, Transport-moving, Priv-house-serv, Protective-serv, Armed-Forces.\n",
        "\n",
        "**relationship**: Wife, Own-child, Husband, Not-in-family, Other-relative, Unmarried.\n",
        "\n",
        "**race**: White, Asian-Pac-Islander, Amer-Indian-Eskimo, Other, Black.\n",
        "\n",
        "**sex**: Female, Male.\n",
        "\n",
        "**capital-gain**: continuous.\n",
        "\n",
        "**capital-loss**: continuous.\n",
        "\n",
        "**hours-per-week**: continuous.\n",
        "\n",
        "**native-country**: United-States, Cambodia, England, Puerto-Rico, Canada, Germany, Outlying-US(Guam-USVI-etc), India, Japan, Greece, South, China, Cuba, Iran, Honduras, Philippines, Italy, Poland, Jamaica, Vietnam, Mexico, Portugal, Ireland, France, Dominican-Republic, Laos, Ecuador, Taiwan, Haiti, Columbia, Hungary, Guatemala, Nicaragua, Scotland, Thailand, Yugoslavia,El-Salvador, Trinadad&Tobago, Peru, Hong, Holand-Netherlands. class: >50K, <=50K\n",
        "\n",
        "\n",
        "---\n",
        "\n"
      ],
      "metadata": {
        "id": "ydRj0fdWettm"
      }
    },
    {
      "cell_type": "markdown",
      "source": [
        "##DATA PREPROCESSING\n",
        "\n",
        "  - **handle_missing_values:\n",
        "      strategy: impute\n",
        "      method: mean\n",
        "      columns:**\n",
        "        - numerical_columns\n",
        "     **strategy_categorical: most_frequent\n",
        "      columns_categorical:**\n",
        "        - categorical_columns\n",
        "  -- **encode_categorical_variables:\n",
        "      method: one-hot\n",
        "      columns:**\n",
        "        - categorical_columns\n",
        "  - **handle_outliers:\n",
        "      method: iqr\n",
        "      columns:**\n",
        "        - numerical_columns\n",
        "  - **standardize_numerical_variables:\n",
        "      method: z-score\n",
        "      columns:**\n",
        "        - numerical_columns"
      ],
      "metadata": {
        "id": "7H46VJb9iy-_"
      }
    },
    {
      "cell_type": "markdown",
      "source": [
        "\n",
        "\n",
        "---\n",
        "# Model Training\n",
        "model_training:\n",
        "  models:\n",
        "  \n",
        "    - model_name: Logistic Regression\n",
        "      algorithm: LogisticRegression\n",
        "      hyperparameters:\n",
        "        C: 1.0\n",
        "        solver: 'lbfgs'\n",
        "\n",
        "    - model_name: Random Forest\n",
        "      algorithm: RandomForestClassifier\n",
        "      hyperparameters:\n",
        "        n_estimators: 100\n",
        "        max_depth: None\n",
        "      feature_importance: true\n",
        "\n",
        "    - model_name: Gradient Boosting\n",
        "      algorithm: GradientBoostingClassifier\n",
        "      hyperparameters:\n",
        "        n_estimators: 100\n",
        "        max_depth: 3\n",
        "      feature_importance: true\n",
        "\n"
      ],
      "metadata": {
        "id": "UWFxJiMfloeO"
      }
    },
    {
      "cell_type": "markdown",
      "source": [
        "## Model Evaluation\n",
        "model_evaluation:\n",
        "\n",
        "  ensemble_method: average_probabilities\n",
        "\n",
        "  evaluation_metrics:\n",
        "  \n",
        "    - accuracy\n",
        "    - precision\n",
        "    - recall\n",
        "    - f1-score\n",
        "    - confusion_matrix"
      ],
      "metadata": {
        "id": "9anCn5Azmd2h"
      }
    },
    {
      "cell_type": "markdown",
      "source": [
        "# Documentation and Communication\n",
        "documentation:\n",
        "  - document_process: true\n",
        "  - communicate_findings: true"
      ],
      "metadata": {
        "id": "xt7sHcDLm-vq"
      }
    },
    {
      "cell_type": "code",
      "source": [],
      "metadata": {
        "id": "S11J_IoWmKWw"
      },
      "execution_count": null,
      "outputs": []
    }
  ]
}